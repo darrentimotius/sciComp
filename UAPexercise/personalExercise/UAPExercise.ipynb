{
 "cells": [
  {
   "cell_type": "markdown",
   "id": "a58b996e",
   "metadata": {},
   "source": [
    "## UAP Exercise"
   ]
  },
  {
   "cell_type": "code",
   "execution_count": 99,
   "id": "09222713",
   "metadata": {},
   "outputs": [],
   "source": [
    "import numpy as np\n",
    "import matplotlib.pyplot as plt"
   ]
  },
  {
   "cell_type": "markdown",
   "id": "3a745bcc",
   "metadata": {},
   "source": [
    "### 1. Solving Linear Equation\n",
    "\n",
    "Periksa apakah matriks koefisien bersifat **dominasi diagonal**.<br>\n",
    "Jika **tidak dominan diagonal**, berikan error message.<br>\n",
    "Jika **dominan diagonal**, gunakan metode **Gauss-Seidel** dengan: <br>\n",
    "    - Maksimal iterasi: **40** <br>\n",
    "    - Nilai awal semua variabel: **0** <br>\n",
    "    - Batas toleransi konvergensi **ϵ = 0.012** <br>"
   ]
  },
  {
   "cell_type": "code",
   "execution_count": 100,
   "id": "56035194",
   "metadata": {},
   "outputs": [],
   "source": [
    "x = [\n",
    "    [\n",
    "        [10, -1, 2, 0, 3],\n",
    "        [2, 12, -1, 2, -3],\n",
    "        [1, 1, 11, -1, -2],\n",
    "        [0, 3, 2, 10, 1],\n",
    "        [-1, 2, -1, 1, 9]\n",
    "    ],\n",
    "    [\n",
    "        [1, 4, 3, 2, 5],\n",
    "        [2, 1, 5, 3, 6],\n",
    "        [3, 2, 1, 7, 8],\n",
    "        [4, 6, 5, 1, 9],\n",
    "        [5, 7, 8, 9, 1]\n",
    "    ],\n",
    "    [\n",
    "        [15, 2, 1, 3, 2],\n",
    "        [2, 14, 3, 2, 1],\n",
    "        [3, 1, 13, 2, 2],\n",
    "        [1, 2, 3, 16, 1],\n",
    "        [2, 1, 1, 2, 12]\n",
    "    ],\n",
    "    [\n",
    "        [4, 6, 5, 2, 1],\n",
    "        [5, 4, 3, 2, 6],\n",
    "        [7, 3, 4, 8, 5],\n",
    "        [6, 5, 4, 3, 2],\n",
    "        [5, 2, 6, 4, 3]\n",
    "    ],\n",
    "    [\n",
    "        [20, -3, 2, 1, -4],\n",
    "        [-2, 21, 3, -2, 1],\n",
    "        [3, -1, 19, 2, 2],\n",
    "        [1, -1, 2, 22, -3],\n",
    "        [2, 2, -1, 1, 18]\n",
    "    ]\n",
    "]\n",
    "\n",
    "y = [\n",
    "    [30, 24, 18, 21, 17],\n",
    "    [60, 70, 80, 90, 100],\n",
    "    [45, 50, 55, 60, 40],\n",
    "    [80, 60, 90, 70, 85],\n",
    "    [75, 62, 59, 78, 66]\n",
    "]"
   ]
  },
  {
   "cell_type": "code",
   "execution_count": 101,
   "id": "a7306ba7",
   "metadata": {},
   "outputs": [],
   "source": [
    "def diagonal_dom(x):\n",
    "    x = np.array(x)\n",
    "\n",
    "    diag = np.diag(np.abs(x))\n",
    "    off_diag = np.sum(np.abs(x), axis=1) - diag\n",
    "\n",
    "    result = np.all(diag > off_diag)\n",
    "    return result\n",
    "\n",
    "def gauss_seidel(x, y, tol, max_iter):\n",
    "    x = np.array(x)\n",
    "    y = np.array(y)\n",
    "\n",
    "    diag = np.diag(x)\n",
    "    x = -x\n",
    "    np.fill_diagonal(x, 0)\n",
    "\n",
    "    old_res = np.zeros(len(x))\n",
    "\n",
    "    for i in range(max_iter):\n",
    "        new_res = np.array(old_res)\n",
    "\n",
    "        for idx, row in enumerate(x):\n",
    "            new_res[idx] = (y[idx] + np.dot(row, new_res)) / diag[idx]\n",
    "\n",
    "        print(f\"Iteration #{i + 1} : {new_res}\")\n",
    "\n",
    "        distance = np.sqrt(np.dot(old_res - new_res, old_res - new_res))\n",
    "        print(f\"Difference = {distance}\")\n",
    "\n",
    "        if distance < tol:\n",
    "            print(f\"\\nConvergent at iteration {i + 1} with result = {new_res} and difference = {distance}\")\n",
    "            return\n",
    "        else:\n",
    "            print(\"Not Convergent\")\n",
    "\n",
    "        old_res = new_res\n",
    "\n",
    "def run_gauss_seidel(x, y, tol, max_iter):\n",
    "    for i, x in enumerate(x):\n",
    "        print(f\"Matrix #{i + 1}\")\n",
    "        if diagonal_dom(x):\n",
    "            print(\"Diagonal Dominant\")\n",
    "            gauss_seidel(x, y[i], tol, max_iter)\n",
    "            print(\"\")\n",
    "        else:\n",
    "            print(\"Not Diagonally Dominant!\")\n",
    "            print(\"\")"
   ]
  },
  {
   "cell_type": "code",
   "execution_count": 102,
   "id": "2710854f",
   "metadata": {},
   "outputs": [
    {
     "name": "stdout",
     "output_type": "stream",
     "text": [
      "Matrix #1\n",
      "Diagonal Dominant\n",
      "Iteration #1 : [3.         1.5        1.22727273 1.40454545 1.86919192]\n",
      "Difference = 4.2688200608322795\n",
      "Not Convergent\n",
      "Iteration #2 : [2.34378788 1.94484848 1.71402663 0.98682094 1.79792184]\n",
      "Difference = 1.0222558782575613\n",
      "Not Convergent\n",
      "Iteration #3 : [2.31230297 2.04246203 1.65708178 0.97605285 1.76760087]\n",
      "Difference = 0.12164592947663717\n",
      "Not Convergent\n",
      "Iteration #4 : [2.34254958 2.02688996 1.64925591 0.98532174 1.77252265]\n",
      "Difference = 0.036451715556210226\n",
      "Not Convergent\n",
      "Iteration #5 : [2.34108102 2.02616819 1.65119253 0.98465877 1.77280871]\n",
      "Difference = 0.0026361857255215366\n",
      "\n",
      "Convergent at iteration 5 with result = [2.34108102 2.02616819 1.65119253 0.98465877 1.77280871] and difference = 0.0026361857255215366\n",
      "\n",
      "Matrix #2\n",
      "Not Diagonally Dominant!\n",
      "\n",
      "Matrix #3\n",
      "Diagonal Dominant\n",
      "Iteration #1 : [3.         3.14285714 3.2967033  2.55151099 1.87145147]\n",
      "Difference = 6.305421679836416\n",
      "Not Convergent\n",
      "Iteration #2 : [1.6013431  2.13805218 3.0163072  2.70013622 2.18689017]\n",
      "Difference = 1.779350202820477\n",
      "Not Convergent\n",
      "Iteration #3 : [1.68222663 2.14281875 2.92588066 2.69172523 2.18194974]\n",
      "Difference = 0.12180713145575128\n",
      "Not Convergent\n",
      "Iteration #4 : [1.68996044 2.16264549 2.92462486 2.68930776 2.1795161 ]\n",
      "Difference = 0.021592946418695844\n",
      "Not Convergent\n",
      "Iteration #5 : [1.68820858 2.16368404 2.92569558 2.68923878 2.17964381]\n",
      "Difference = 0.0023054537700569677\n",
      "\n",
      "Convergent at iteration 5 with result = [1.68820858 2.16368404 2.92569558 2.68923878 2.17964381] and difference = 0.0023054537700569677\n",
      "\n",
      "Matrix #4\n",
      "Not Diagonally Dominant!\n",
      "\n",
      "Matrix #5\n",
      "Diagonal Dominant\n",
      "Iteration #1 : [3.75       3.30952381 2.68734336 3.28112896 2.84928704]\n",
      "Difference = 7.149930494153796\n",
      "Not Convergent\n",
      "Iteration #2 : [4.3834952  3.16275863 1.93428637 3.70266145 2.72995096]\n",
      "Difference = 1.0871438490944538\n",
      "Not Convergent\n",
      "Iteration #3 : [4.39184228 3.31696178 1.90927422 3.695292   2.71090967]\n",
      "Difference = 0.15776809846287745\n",
      "Not Convergent\n",
      "Iteration #4 : [4.41403418 3.32285333 1.90886039 3.69199215 2.70794962]\n",
      "Difference = 0.02338831103553173\n",
      "Not Convergent\n",
      "Iteration #5 : [4.41453228 3.32278657 1.90943717 3.6915104  2.7079605 ]\n",
      "Difference = 0.0009041196912448558\n",
      "\n",
      "Convergent at iteration 5 with result = [4.41453228 3.32278657 1.90943717 3.6915104  2.7079605 ] and difference = 0.0009041196912448558\n",
      "\n"
     ]
    }
   ],
   "source": [
    "run_gauss_seidel(x, y, 0.012, 40)"
   ]
  },
  {
   "cell_type": "markdown",
   "id": "e6bf33b6",
   "metadata": {},
   "source": [
    "**Output:**\n",
    "```python\n",
    "Matrix #1\n",
    "Diagonally Dominant\n",
    "Iteration #1 : [3.         1.5        1.22727273 1.40454545 1.86919192]\n",
    "Difference = 4.2688200608322795\n",
    "Not Convergent\n",
    "Iteration #2 : [2.34378788 1.94484848 1.71402663 0.98682094 1.79792184]\n",
    "Difference = 1.0222558782575613\n",
    "Not Convergent\n",
    "Iteration #3 : [2.31230297 2.04246203 1.65708178 0.97605285 1.76760087]\n",
    "Difference = 0.12164592947663717\n",
    "Not Convergent\n",
    "Iteration #4 : [2.34254958 2.02688996 1.64925591 0.98532174 1.77252265]\n",
    "Difference = 0.036451715556210226\n",
    "Not Convergent\n",
    "Iteration #5 : [2.34108102 2.02616819 1.65119253 0.98465877 1.77280871]\n",
    "Difference = 0.0026361857255215366\n",
    "\n",
    "Convergent at iteration 5 with result = [2.34108102 2.02616819 1.65119253 0.98465877 1.77280871] and difference = 0.0026361857255215366\n",
    "\n",
    "Matrix #2\n",
    "Not Diagonally Dominant!\n",
    "\n",
    "Matrix #3\n",
    "Diagonally Dominant\n",
    "Iteration #1 : [3.         3.14285714 3.2967033  2.55151099 1.87145147]\n",
    "Difference = 6.305421679836416\n",
    "Not Convergent\n",
    "Iteration #2 : [1.6013431  2.13805218 3.0163072  2.70013622 2.18689017]\n",
    "Difference = 1.779350202820477\n",
    "Not Convergent\n",
    "Iteration #3 : [1.68222663 2.14281875 2.92588066 2.69172523 2.18194974]\n",
    "Difference = 0.12180713145575128\n",
    "Not Convergent\n",
    "Iteration #4 : [1.68996044 2.16264549 2.92462486 2.68930776 2.1795161 ]\n",
    "Difference = 0.021592946418695844\n",
    "Not Convergent\n",
    "Iteration #5 : [1.68820858 2.16368404 2.92569558 2.68923878 2.17964381]\n",
    "Difference = 0.0023054537700569677\n",
    "\n",
    "Convergent at iteration 5 with result = [1.68820858 2.16368404 2.92569558 2.68923878 2.17964381] and difference = 0.0023054537700569677\n",
    "\n",
    "Matrix #4\n",
    "Not Diagonally Dominant!\n",
    "\n",
    "Matrix #5\n",
    "Diagonally Dominant\n",
    "Iteration #1 : [3.75       3.30952381 2.68734336 3.28112896 2.84928704]\n",
    "Difference = 7.149930494153796\n",
    "Not Convergent\n",
    "Iteration #2 : [4.3834952  3.16275863 1.93428637 3.70266145 2.72995096]\n",
    "Difference = 1.0871438490944538\n",
    "Not Convergent\n",
    "Iteration #3 : [4.39184228 3.31696178 1.90927422 3.695292   2.71090967]\n",
    "Difference = 0.15776809846287745\n",
    "Not Convergent\n",
    "Iteration #4 : [4.41403418 3.32285333 1.90886039 3.69199215 2.70794962]\n",
    "Difference = 0.02338831103553173\n",
    "Not Convergent\n",
    "Iteration #5 : [4.41453228 3.32278657 1.90943717 3.6915104  2.7079605 ]\n",
    "Difference = 0.0009041196912448558\n",
    "\n",
    "Convergent at iteration 5 with result = [4.41453228 3.32278657 1.90943717 3.6915104  2.7079605 ] and difference = 0.0009041196912448558\n",
    "```"
   ]
  },
  {
   "cell_type": "markdown",
   "id": "3be82182",
   "metadata": {},
   "source": [
    "### 2. Regression\n",
    "\n",
    "Carilah hasil dari **Least Square Regression** menggunakan matplotlib berserta dengan legendnya"
   ]
  },
  {
   "cell_type": "code",
   "execution_count": 103,
   "id": "0b12161a",
   "metadata": {},
   "outputs": [],
   "source": [
    "x = [1.05, 1.44, 1.83, 2.22, 2.61, 3.00, 3.39, 3.77, 4.16, 4.55, 4.94, 5.33, 5.72, 6.11, 6.50, 6.89, 7.28, 7.67, 8.06, 8.45, 8.84, 9.22, 9.61, 10.00, 10.39, 10.77, 11.16, 11.55, 11.94, 12.33, 12.72, 13.11, 13.50, 13.89, 14.28, 14.67, 15.06, 15.45, 15.84, 16.23, 16.62, 17.01, 17.40, 17.79, 18.18, 18.57, 18.96, 19.35, 19.74, 20.13]\n",
    "\n",
    "y = [5.95, 5.93, 6.11, 6.39, 6.55, 6.28, 5.29, 6.88, 7.28, 7.20, 6.13, 7.75, 7.82, 8.22, 7.03, 8.59, 8.81, 8.85, 8.65, 9.61, 8.22, 8.74, 9.04, 8.78, 10.86, 10.81, 9.69, 10.61, 11.31, 10.59, 12.02, 10.49, 12.18, 11.38, 11.05, 11.48, 12.96, 12.54, 12.42, 12.55, 12.34, 13.30, 14.20, 13.99, 14.40, 13.46, 15.12, 13.90, 13.95, 14.42]"
   ]
  },
  {
   "cell_type": "code",
   "execution_count": 104,
   "id": "a94cb309",
   "metadata": {},
   "outputs": [
    {
     "data": {
      "image/png": "[encoded data removed]",
      "text/plain": [
       "<Figure size 640x480 with 1 Axes>"
      ]
     },
     "metadata": {},
     "output_type": "display_data"
    }
   ],
   "source": [
    "x = np.array(x)\n",
    "y = np.array(y)\n",
    "\n",
    "A = np.vstack([x, np.ones(len(x))]).T\n",
    "y = y[:, np.newaxis]\n",
    "\n",
    "alpha = np.dot(np.dot(np.linalg.inv(np.dot(A.T, A)), A.T), y)\n",
    "\n",
    "plt.plot(x, y, 'bo', label=\"Data Points\")\n",
    "plt.plot(x, alpha[0] * x + alpha[1], 'g', label=\"Fitted Line\")\n",
    "plt.title(\"Least Square Regression\")\n",
    "plt.legend(loc=\"lower right\")\n",
    "plt.show()"
   ]
  },
  {
   "cell_type": "markdown",
   "id": "a416bd90",
   "metadata": {},
   "source": [
    "**Output:** <br>\n",
    "![Output](output.png)"
   ]
  },
  {
   "cell_type": "markdown",
   "id": "cf72f573",
   "metadata": {},
   "source": [
    "### 3. Newton Raphson\n",
    "\n",
    "Diberikan persamaan sebagai berikut: <br>\n",
    "***5x⁶ - 7x⁵ + 4x⁴ - 7x³ + 4x² - 8x + 1***\n",
    "\n",
    "Berapa hasil yang didapatkan dari persamaan tersebut dengan: <br>\n",
    "Tebakan pertama = **12** <br>\n",
    "Batas toleransi error = **ϵ = 0.011** <br>\n",
    "Maksimum iterasi = **45** <br>"
   ]
  },
  {
   "cell_type": "code",
   "execution_count": 105,
   "id": "1c7c8a5d",
   "metadata": {},
   "outputs": [],
   "source": [
    "def f(x):\n",
    "    return 5 * x**6 - 7 * x**5 + 4 * x**4 - 7 * x**3 + 4 * x**2 - 8 * x + 1\n",
    "\n",
    "def g(x):\n",
    "    return 30 * x**5 - 35 * x**4 + 16 * x**3 - 21 * x**2 + 8 * x - 8"
   ]
  },
  {
   "cell_type": "code",
   "execution_count": 106,
   "id": "d261c39d",
   "metadata": {},
   "outputs": [],
   "source": [
    "def newton_raphson(x, tol, max_iter):\n",
    "    for i in range(max_iter):\n",
    "        x = x - f(x) / g(x)\n",
    "\n",
    "        print(f\"Iteration #{i + 1} root = {x}\")\n",
    "\n",
    "        if np.abs(f(x)) < tol:\n",
    "            print(f\"Final root answer at iteration #{i + 1} = {x}\")\n",
    "            return\n",
    "    print(\"Over the max iterations!\")"
   ]
  },
  {
   "cell_type": "code",
   "execution_count": 107,
   "id": "0914e725",
   "metadata": {},
   "outputs": [
    {
     "name": "stdout",
     "output_type": "stream",
     "text": [
      "Newton Raphson\n",
      "Iteration #1 root = 10.039681030740791\n",
      "Iteration #2 root = 8.406419404463316\n",
      "Iteration #3 root = 7.045858471676055\n",
      "Iteration #4 root = 5.912776207942449\n",
      "Iteration #5 root = 4.969605008553551\n",
      "Iteration #6 root = 4.185226840733548\n",
      "Iteration #7 root = 3.5340214730965243\n",
      "Iteration #8 root = 2.9951713017864456\n",
      "Iteration #9 root = 2.55226819828194\n",
      "Iteration #10 root = 2.1933334602274734\n",
      "Iteration #11 root = 1.9114164172981236\n",
      "Iteration #12 root = 1.7056425520596765\n",
      "Iteration #13 root = 1.5801888195570257\n",
      "Iteration #14 root = 1.5311748229965103\n",
      "Iteration #15 root = 1.5241947716629771\n",
      "Final root answer at iteration #15 = 1.5241947716629771\n"
     ]
    }
   ],
   "source": [
    "print(\"Newton Raphson\")\n",
    "newton_raphson(12, 0.011, 45)"
   ]
  },
  {
   "cell_type": "markdown",
   "id": "1df61591",
   "metadata": {},
   "source": [
    "**Output:**\n",
    "```python\n",
    "Newton Raphson\n",
    "Iteration #1 root = 10.039681030740791\n",
    "Iteration #2 root = 8.406419404463316\n",
    "Iteration #3 root = 7.045858471676055\n",
    "Iteration #4 root = 5.912776207942449\n",
    "Iteration #5 root = 4.969605008553551\n",
    "Iteration #6 root = 4.185226840733548\n",
    "Iteration #7 root = 3.5340214730965243\n",
    "Iteration #8 root = 2.9951713017864456\n",
    "Iteration #9 root = 2.55226819828194\n",
    "Iteration #10 root = 2.1933334602274734\n",
    "Iteration #11 root = 1.9114164172981236\n",
    "Iteration #12 root = 1.7056425520596765\n",
    "Iteration #13 root = 1.5801888195570257\n",
    "Iteration #14 root = 1.5311748229965103\n",
    "Iteration #15 root = 1.5241947716629771\n",
    "Final root answer at iteration #15 = 1.5241947716629771\n",
    "```"
   ]
  },
  {
   "cell_type": "markdown",
   "id": "2ea288e1",
   "metadata": {},
   "source": [
    "Carilah kembali hasilnya dengan: <br>\n",
    "Tebakan pertama = **754** <br>\n",
    "Batas toleransi error = **ϵ = 0.0011** <br>\n",
    "Maksimum iterasi = **35** <br>"
   ]
  },
  {
   "cell_type": "code",
   "execution_count": 108,
   "id": "2ffa64d3",
   "metadata": {},
   "outputs": [
    {
     "name": "stdout",
     "output_type": "stream",
     "text": [
      "Newton Raphson\n",
      "Iteration #1 root = 628.3722236209909\n",
      "Iteration #2 root = 523.6824102924635\n",
      "Iteration #3 root = 436.44089958812884\n",
      "Iteration #4 root = 363.739641177091\n",
      "Iteration #5 root = 303.1552598163033\n",
      "Iteration #6 root = 252.66827618082147\n",
      "Iteration #7 root = 210.59579089353838\n",
      "Iteration #8 root = 175.53538788970044\n",
      "Iteration #9 root = 146.31838722976127\n",
      "Iteration #10 root = 121.97088912302956\n",
      "Iteration #11 root = 101.68131063249223\n",
      "Iteration #12 root = 84.77333295520097\n",
      "Iteration #13 root = 70.68335752701415\n",
      "Iteration #14 root = 58.94171949737121\n",
      "Iteration #15 root = 49.15703236944062\n",
      "Iteration #16 root = 41.003141979018565\n",
      "Iteration #17 root = 34.20825497215523\n",
      "Iteration #18 root = 28.545879437645944\n",
      "Iteration #19 root = 23.827275775088438\n",
      "Iteration #20 root = 19.89516625012425\n",
      "Iteration #21 root = 16.618493691234704\n",
      "Iteration #22 root = 13.888054828492287\n",
      "Iteration #23 root = 11.61286305282687\n",
      "Iteration #24 root = 9.717119899355342\n",
      "Iteration #25 root = 8.137695222458442\n",
      "Iteration #26 root = 6.822033670146324\n",
      "Iteration #27 root = 5.726420566016252\n",
      "Iteration #28 root = 4.8145547904538\n",
      "Iteration #29 root = 4.056391437911324\n",
      "Iteration #30 root = 3.427235919049215\n",
      "Iteration #31 root = 2.907099216822911\n",
      "Iteration #32 root = 2.480369942711003\n",
      "Iteration #33 root = 2.1359280793923894\n",
      "Iteration #34 root = 1.8678597976965672\n",
      "Iteration #35 root = 1.676458473635795\n",
      "Over the max iterations!\n"
     ]
    }
   ],
   "source": [
    "print(\"Newton Raphson\")\n",
    "newton_raphson(754, 0.0011, 35)"
   ]
  },
  {
   "cell_type": "markdown",
   "id": "bf3f2685",
   "metadata": {},
   "source": [
    "**Output:**\n",
    "```python\n",
    "Newton Raphson\n",
    "Iteration #1 root = 628.3722236209909\n",
    "Iteration #2 root = 523.6824102924635\n",
    "Iteration #3 root = 436.44089958812884\n",
    "Iteration #4 root = 363.739641177091\n",
    "Iteration #5 root = 303.1552598163033\n",
    "Iteration #6 root = 252.66827618082147\n",
    "Iteration #7 root = 210.59579089353838\n",
    "Iteration #8 root = 175.53538788970044\n",
    "Iteration #9 root = 146.31838722976127\n",
    "Iteration #10 root = 121.97088912302956\n",
    "Iteration #11 root = 101.68131063249223\n",
    "Iteration #12 root = 84.77333295520097\n",
    "Iteration #13 root = 70.68335752701415\n",
    "Iteration #14 root = 58.94171949737121\n",
    "Iteration #15 root = 49.15703236944062\n",
    "Iteration #16 root = 41.003141979018565\n",
    "Iteration #17 root = 34.20825497215523\n",
    "Iteration #18 root = 28.545879437645944\n",
    "Iteration #19 root = 23.827275775088438\n",
    "Iteration #20 root = 19.89516625012425\n",
    "Iteration #21 root = 16.618493691234704\n",
    "Iteration #22 root = 13.888054828492287\n",
    "Iteration #23 root = 11.61286305282687\n",
    "Iteration #24 root = 9.717119899355342\n",
    "Iteration #25 root = 8.137695222458442\n",
    "Iteration #26 root = 6.822033670146324\n",
    "Iteration #27 root = 5.726420566016252\n",
    "Iteration #28 root = 4.8145547904538\n",
    "Iteration #29 root = 4.056391437911324\n",
    "Iteration #30 root = 3.427235919049215\n",
    "Iteration #31 root = 2.907099216822911\n",
    "Iteration #32 root = 2.480369942711003\n",
    "Iteration #33 root = 2.1359280793923894\n",
    "Iteration #34 root = 1.8678597976965672\n",
    "Iteration #35 root = 1.676458473635795\n",
    "Over the max iterations!\n",
    "```"
   ]
  },
  {
   "cell_type": "markdown",
   "id": "69bd4251",
   "metadata": {},
   "source": [
    "### 4. Integral Riemann\n",
    "\n",
    "$$\n",
    "\\int_{1}^{11} \\left(60x^6 - 45x^5 + 22x^4 - 13x^3 + 8x^2 - 5x + 11\\right)\\,dx\n",
    "$$\n",
    "\n",
    "Dengan **75000 spaced grid points**, carilah **Left Riemann, Middle Riemann, dan Right Riemann**"
   ]
  },
  {
   "cell_type": "code",
   "execution_count": 109,
   "id": "872b230d",
   "metadata": {},
   "outputs": [],
   "source": [
    "def f(x):\n",
    "    return 60 * x**6 - 45 * x**5 + 22 * x**4 - 13 * x**3 + 8 * x**2 - 5 * x + 11\n",
    "\n",
    "a = 1\n",
    "b = 11\n",
    "n = 75000\n",
    "\n",
    "width = (b - 1) / (n - 1)\n",
    "x = np.linspace(a, b, n)"
   ]
  },
  {
   "cell_type": "code",
   "execution_count": 110,
   "id": "40b6ceef",
   "metadata": {},
   "outputs": [
    {
     "name": "stdout",
     "output_type": "stream",
     "text": [
      "Solve Integral using Riemann:\n",
      "Left Riemann = 154403958.90382048\n",
      "Middle Riemann = 154410582.3403613\n",
      "Right Riemann = 154417206.02044868\n"
     ]
    }
   ],
   "source": [
    "print(\"Solve Integral using Riemann:\")\n",
    "\n",
    "left = width * np.sum(f(x[:-1]))\n",
    "print(f\"Left Riemann = {left}\")\n",
    "\n",
    "mid = (x[:-1] + x[1:]) / 2\n",
    "midRiemann = width * np.sum(f(mid))\n",
    "print(f\"Middle Riemann = {midRiemann}\")\n",
    "\n",
    "right = width * np.sum(f(x[1:]))\n",
    "print(f\"Right Riemann = {right}\")"
   ]
  },
  {
   "cell_type": "markdown",
   "id": "fe3f2ae5",
   "metadata": {},
   "source": [
    "**Output:**\n",
    "\n",
    "```python\n",
    "Solve Integral using Riemann:\n",
    "Left Riemann = 154403958.90382048\n",
    "Middle Riemann = 154410582.3403613\n",
    "Right Riemann = 154417206.02044868\n",
    "```"
   ]
  }
 ],
 "metadata": {
  "kernelspec": {
   "display_name": "sciComp",
   "language": "python",
   "name": "python3"
  },
  "language_info": {
   "codemirror_mode": {
    "name": "ipython",
    "version": 3
   },
   "file_extension": ".py",
   "mimetype": "text/x-python",
   "name": "python",
   "nbconvert_exporter": "python",
   "pygments_lexer": "ipython3",
   "version": "3.10.12"
  }
 },
 "nbformat": 4,
 "nbformat_minor": 5
}
