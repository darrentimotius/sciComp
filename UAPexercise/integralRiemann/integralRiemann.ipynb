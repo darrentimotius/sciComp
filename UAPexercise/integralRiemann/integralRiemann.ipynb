{
 "cells": [
  {
   "cell_type": "code",
   "execution_count": 25,
   "id": "e8d49c43",
   "metadata": {},
   "outputs": [],
   "source": [
    "import numpy as np"
   ]
  },
  {
   "cell_type": "code",
   "execution_count": 26,
   "id": "0deb04d9",
   "metadata": {},
   "outputs": [],
   "source": [
    "def f(x):\n",
    "    return 40 * x**4 - 40 * x**3 + 3 * x**2 + 4 * x - 9"
   ]
  },
  {
   "cell_type": "code",
   "execution_count": null,
   "id": "5fc0fe4f",
   "metadata": {},
   "outputs": [],
   "source": [
    "a = 5\n",
    "b = 15\n",
    "n = 60000\n",
    "\n",
    "width = (b - a) / (n - 1)\n",
    "\n",
    "x = np.linspace(a, b, n)"
   ]
  },
  {
   "cell_type": "code",
   "execution_count": 28,
   "id": "32cd8766",
   "metadata": {},
   "outputs": [
    {
     "name": "stdout",
     "output_type": "stream",
     "text": [
      "Left Riemann = 5553404.111883503\n"
     ]
    }
   ],
   "source": [
    "leftRiemann = width * np.sum(f(x[:-1]))\n",
    "print(f\"Left Riemann = {leftRiemann}\")"
   ]
  },
  {
   "cell_type": "code",
   "execution_count": 29,
   "id": "f45d5dd9",
   "metadata": {},
   "outputs": [
    {
     "name": "stdout",
     "output_type": "stream",
     "text": [
      "Right Riemann = 5553715.890413146\n"
     ]
    }
   ],
   "source": [
    "rightRiemann = width * np.sum(f(x[1:]))\n",
    "print(f\"Right Riemann = {rightRiemann}\")"
   ]
  },
  {
   "cell_type": "code",
   "execution_count": 30,
   "id": "bef55c73",
   "metadata": {},
   "outputs": [
    {
     "name": "stdout",
     "output_type": "stream",
     "text": [
      "Middle Riemann = 5553559.999425837\n"
     ]
    }
   ],
   "source": [
    "mid = (x[:-1] + x[1:]) / 2\n",
    "midRiemann = width * np.sum(f(mid))\n",
    "print(f\"Middle Riemann = {midRiemann}\")"
   ]
  }
 ],
 "metadata": {
  "kernelspec": {
   "display_name": "sciComp",
   "language": "python",
   "name": "python3"
  },
  "language_info": {
   "codemirror_mode": {
    "name": "ipython",
    "version": 3
   },
   "file_extension": ".py",
   "mimetype": "text/x-python",
   "name": "python",
   "nbconvert_exporter": "python",
   "pygments_lexer": "ipython3",
   "version": "3.10.12"
  }
 },
 "nbformat": 4,
 "nbformat_minor": 5
}
