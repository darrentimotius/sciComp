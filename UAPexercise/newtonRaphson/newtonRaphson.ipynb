{
 "cells": [
  {
   "cell_type": "code",
   "execution_count": 17,
   "id": "524b4513",
   "metadata": {},
   "outputs": [],
   "source": [
    "import numpy as np"
   ]
  },
  {
   "cell_type": "code",
   "execution_count": 18,
   "id": "216a8d80",
   "metadata": {},
   "outputs": [],
   "source": [
    "def f(x):\n",
    "    return 8 * (x**5) - 10 * (x**4) + x**3 + 2 * (x**2) + 9 * x + 13\n",
    "\n",
    "def g(x):\n",
    "    return 40 * (x**4) - 40 * (x**3) + 3 * (x**2) + 4 * x + 9"
   ]
  },
  {
   "cell_type": "code",
   "execution_count": 19,
   "id": "e2c268d8",
   "metadata": {},
   "outputs": [],
   "source": [
    "def newton_raphson(x, tol, max_iter):\n",
    "    for i in range(max_iter):\n",
    "        x = x - f(x) / g(x)\n",
    "        print(f\"Iteration # {i + 1} new root = {x}\")\n",
    "        \n",
    "        if np.abs(f(x)) < tol:\n",
    "            return x\n",
    "\n",
    "    print(\"Over the max iterations!\")\n",
    "    return"
   ]
  },
  {
   "cell_type": "code",
   "execution_count": 20,
   "id": "40b0674b",
   "metadata": {},
   "outputs": [
    {
     "name": "stdout",
     "output_type": "stream",
     "text": [
      "With Newton Raphson\n",
      "Iteration # 1 new root = 4.055760047751691\n",
      "Iteration # 2 new root = 3.2995992993701333\n",
      "Iteration # 3 new root = 2.691142040353687\n",
      "Iteration # 4 new root = 2.1941206124780868\n",
      "Iteration # 5 new root = 1.7693673505975802\n",
      "Iteration # 6 new root = 1.3536896666513434\n",
      "Iteration # 7 new root = 0.7335064821901164\n",
      "Iteration # 8 new root = -1.3942760169601534\n",
      "Iteration # 9 new root = -1.1029655134470373\n",
      "Iteration # 10 new root = -0.9073243206569388\n",
      "Iteration # 11 new root = -0.815342818303601\n",
      "Iteration # 12 new root = -0.7972383775051456\n",
      "Final root answer is -0.7972383775051456\n",
      "-0.7972383775051456\n"
     ]
    }
   ],
   "source": [
    "print(\"With Newton Raphson\")\n",
    "x = newton_raphson(5, 0.23, 50)\n",
    "print(f\"Final root answer is {x}\")\n",
    "print(x)"
   ]
  }
 ],
 "metadata": {
  "kernelspec": {
   "display_name": "sciComp",
   "language": "python",
   "name": "python3"
  },
  "language_info": {
   "codemirror_mode": {
    "name": "ipython",
    "version": 3
   },
   "file_extension": ".py",
   "mimetype": "text/x-python",
   "name": "python",
   "nbconvert_exporter": "python",
   "pygments_lexer": "ipython3",
   "version": "3.10.12"
  }
 },
 "nbformat": 4,
 "nbformat_minor": 5
}
