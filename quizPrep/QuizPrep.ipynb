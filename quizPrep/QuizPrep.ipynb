{
 "cells": [
  {
   "cell_type": "markdown",
   "id": "eeb0364b",
   "metadata": {},
   "source": [
    "## Quick Quiz Prep (Definitely not official by any means)\n",
    "\n",
    "Berikut adalah gambaran kasar soal apa yang mungkin keluar di quiz. Perhatikan bahwa semua yang ditulis di sini belum tentu akan semuanya keluar di quiz. Di sini hanya untuk memberikan gambaran kasar apa saja yang harus dipersiapkan nanti...\n",
    "\n",
    "Jika ada pertanyaan, langsung tanya saja ya. Good luck\n",
    "༼ つ ◕_◕ ༽つ"
   ]
  },
  {
   "cell_type": "code",
   "execution_count": 2,
   "id": "89839bfe",
   "metadata": {},
   "outputs": [],
   "source": [
    "# Import library di sini (kalian harus define library sendiri saat quiz nanti)\n",
    "import numpy as np\n",
    "import matplotlib.pyplot as plt"
   ]
  },
  {
   "cell_type": "markdown",
   "id": "2ad69c09",
   "metadata": {},
   "source": [
    "### No 1. Linear Equation\n",
    "\n",
    "Diketahui sistem persamaan linear berikut:\n",
    "\n",
    "$\\begin{cases}\n",
    "10a + b + c = 12 \\\\\n",
    "2a - 10b + c = 13 \\\\\n",
    "2a + 2b + 5c = 14\n",
    "\\end{cases}$\n",
    "\n",
    "Gunakan metode **Gauss-Seidel** untuk menentukan nilai dari \\(a\\), \\(b\\), dan \\(c\\) dengan toleransi \\(ε = 0.001\\), dengan tebakan awal a = 0, b = 0, c = 0, dan iterasi maksimal sebanyak 30 kali \n"
   ]
  },
  {
   "cell_type": "code",
   "execution_count": null,
   "id": "d9fa92b5",
   "metadata": {},
   "outputs": [
    {
     "name": "stdout",
     "output_type": "stream",
     "text": [
      "Iteration 1: [ 1.2   -1.06   2.744]\n",
      "Iteration 2: [ 1.0316   -0.81928   2.715072]\n",
      "Iteration 3: [ 1.0104208  -0.82640864  2.72639514]\n",
      "Iteration 4: [ 1.01000135 -0.82536022  2.72614355]\n",
      "Iteration 5: [ 1.00992167 -0.82540131  2.72619186]\n",
      "Converged\n"
     ]
    },
    {
     "data": {
      "text/plain": [
       "array([ 1.00992167, -0.82540131,  2.72619186])"
      ]
     },
     "execution_count": 9,
     "metadata": {},
     "output_type": "execute_result"
    }
   ],
   "source": [
    "## Template...\n",
    "Xs = [\n",
    "    [10, 1, 1],\n",
    "    [2, -10, 1],\n",
    "    [2, 2, 5]\n",
    "]\n",
    "Ys = [12, 13, 14]\n",
    "\n",
    "## Mulai dari sini...\n",
    "def diagonal_dominant(x):\n",
    "    x = np.array(x)\n",
    "    diag = np.diag(np.abs(x))\n",
    "    off_diag = np.sum(np.abs(x), axis=1) - diag\n",
    "    result = np.all(diag > off_diag)\n",
    "    return result\n",
    "\n",
    "def gauss_seidel(x, y, tol=0.001, max_iter=30):\n",
    "    if not diagonal_dominant(x):\n",
    "        print(\"Not a diagonally dominant matrix\")\n",
    "        return\n",
    "    \n",
    "    x = np.array(x)\n",
    "    y = np.array(y)\n",
    "\n",
    "    diag = np.diag(x)\n",
    "    x = -x\n",
    "    np.fill_diagonal(x, 0)\n",
    "\n",
    "    old_res = np.zeros(len(x[0]))\n",
    "\n",
    "    for i in range(max_iter):\n",
    "        new_res = np.array(old_res)\n",
    "        \n",
    "        for idx, row in enumerate(x):\n",
    "            new_res[idx] = (y[idx] + np.dot(row, new_res)) / diag[idx]\n",
    "\n",
    "        print(f\"Iteration {i+1}: {new_res}\")\n",
    "\n",
    "        distance = np.sqrt(np.dot(old_res - new_res, old_res - new_res))\n",
    "\n",
    "        if distance < tol:\n",
    "            print(\"Converged\")\n",
    "            return new_res\n",
    "        \n",
    "        old_res = new_res\n",
    "\n",
    "gauss_seidel(Xs, Ys)"
   ]
  },
  {
   "cell_type": "markdown",
   "id": "ee79a79d",
   "metadata": {},
   "source": [
    "### No 2. Linear Regression\n",
    "\n",
    "Buatlah persaman garis trend terhadap x dengan y menggunakan linear regression\n",
    "\n",
    "Gunakan rumus berikut sebagai panduan (rumus tidak akan diberikan saat quiz)\n",
    "\n",
    "$\\boldsymbol{\\beta} = (A^\\top A)^{-1} A^\\top {Y}$\n"
   ]
  },
  {
   "cell_type": "code",
   "execution_count": 16,
   "id": "75d96ab8",
   "metadata": {},
   "outputs": [
    {
     "data": {
      "image/png": "[encoded data removed]",
      "text/plain": [
       "<Figure size 640x480 with 1 Axes>"
      ]
     },
     "metadata": {},
     "output_type": "display_data"
    }
   ],
   "source": [
    "## Template...\n",
    "x = [3.7454, 9.5071, 7.3199, 5.9866, 1.5602, 1.5599, 0.5808, 8.6618, 6.0112, 7.0807,\n",
    "    0.2058, 9.6991, 8.3244, 2.1234, 1.8182, 1.8340, 3.0424, 5.2476, 4.3195, 2.9123,\n",
    "    6.1185, 1.3949, 2.9214, 3.6636, 4.5607, 7.8518, 1.9967, 5.1423, 5.9241, 0.4645,\n",
    "    6.0754, 1.7052, 0.6505, 9.4889, 9.6563, 8.0839, 3.0461, 2.9398, 9.0851, 0.8926,\n",
    "    3.6618, 6.0112, 7.0807, 0.2058, 9.6991, 8.3244, 2.1234, 1.8182, 1.8340, 3.0424]\n",
    "\n",
    "y = [14.7732, 27.3086, 21.9848, 19.1797, 6.3277, 9.7238, 5.8392, 25.0594, 19.8312, 22.6396,\n",
    "    5.0127, 30.4071, 23.7478, 10.2182, 9.5024, 9.3109, 10.5543, 17.5202, 14.1518, 11.1426,\n",
    "    18.3864, 6.2259, 13.4306, 12.2331, 16.8864, 24.2649, 9.5713, 16.1173, 19.4648, 6.1537,\n",
    "    18.3104, 9.5916, 5.6269, 27.8698, 26.2203, 22.1328, 12.8021, 11.7026, 28.0513, 6.5832,\n",
    "    12.8237, 18.8369, 21.6254, 4.6521, 29.8769, 25.2628, 10.5312, 9.3773, 10.5647, 11.6133]\n",
    "\n",
    "## Mulai dari sini...\n",
    "x = np.array(x)\n",
    "y = np.array(y)\n",
    "\n",
    "A = np.vstack([x, np.ones(len(x))]).T\n",
    "Y = y[:, np.newaxis]\n",
    "\n",
    "alpha = np.linalg.inv(np.dot(A.T, A))\n",
    "alpha = np.dot(alpha, A.T)\n",
    "alpha = np.dot(alpha, Y)\n",
    "\n",
    "plt.plot(x, y, \"ro\")\n",
    "plt.plot(x, alpha[0] * x + alpha[1], \"b-\")\n",
    "plt.show()"
   ]
  },
  {
   "cell_type": "markdown",
   "id": "4a6683ca",
   "metadata": {},
   "source": [
    "### No 3. Root of Equation\n",
    "\n",
    "Gunakan metode **Newton Raphson** untuk menentukan root of equation dari persamaan dengan toleransi \\(ε = 0.001\\), dan maksimal iterasi = 30\n",
    "\n",
    "$f(x) = -2x^3 - 6x^2 + 12x - 7$\n",
    "\n",
    "Untuk nilai prediksi awal ditentukan sendiri (bebas)"
   ]
  },
  {
   "cell_type": "code",
   "execution_count": null,
   "id": "5ec1cd0e",
   "metadata": {},
   "outputs": [
    {
     "name": "stdout",
     "output_type": "stream",
     "text": [
      "Found root at 1.709045337262638\n",
      "-0.0001539149297506981\n"
     ]
    }
   ],
   "source": [
    "## Template\n",
    "def f(x):\n",
    "    return -2 * (x ** 3) - 6 * (x ** 2) + 12 * x + 7\n",
    "\n",
    "## Mulai dari sini...\n",
    "# x1 = x0 - f(x0) / g(x0)\n",
    "\n",
    "def g(x):\n",
    "    return -6 * (x ** 2) - 12 * x + 12\n",
    "\n",
    "def newton_raphson(x0, tol=0.001, max_iter=30):\n",
    "    x1 = x0 - f(x0) / g(x0)\n",
    "    fx1 = f(x1)\n",
    "\n",
    "    if (np.abs(fx1) < tol):\n",
    "        print(f\"Found root at {x1}\")\n",
    "        print(f(x1))\n",
    "        return\n",
    "    else:\n",
    "        newton_raphson(x1, tol)\n",
    "\n",
    "newton_raphson(123)"
   ]
  },
  {
   "cell_type": "markdown",
   "id": "9aa8a756",
   "metadata": {},
   "source": [
    "### No 4. Riemann Integral\n",
    "\n",
    "Gunakan metode **Left Riemann Sum** Untuk menentukan estimasi luas area dengan persamaan\n",
    "\n",
    "$f(x) = 3x^2 - 4$\n",
    "\n",
    "Pada interval $x = 3$ hingga $x = 5$, dengan interval $n = 20$"
   ]
  },
  {
   "cell_type": "code",
   "execution_count": null,
   "id": "fe15e313",
   "metadata": {},
   "outputs": [
    {
     "name": "stdout",
     "output_type": "stream",
     "text": [
      "87.48476454293628\n"
     ]
    }
   ],
   "source": [
    "## Template\n",
    "def f(x):\n",
    "  return 3 * (x ** 2) - 4\n",
    "\n",
    "## Mulai dari sini...\n",
    "a = 3\n",
    "b = 5\n",
    "n = 20\n",
    "\n",
    "width = (b - a) / (n - 1)\n",
    "\n",
    "x = np.linspace(a, b, n)\n",
    "y = f(x) \n",
    "\n",
    "left_riemann = np.sum(width * y[:n-1])\n",
    "print(left_riemann)"
   ]
  }
 ],
 "metadata": {
  "kernelspec": {
   "display_name": "sciComp",
   "language": "python",
   "name": "python3"
  },
  "language_info": {
   "codemirror_mode": {
    "name": "ipython",
    "version": 3
   },
   "file_extension": ".py",
   "mimetype": "text/x-python",
   "name": "python",
   "nbconvert_exporter": "python",
   "pygments_lexer": "ipython3",
   "version": "3.10.12"
  }
 },
 "nbformat": 4,
 "nbformat_minor": 5
}
