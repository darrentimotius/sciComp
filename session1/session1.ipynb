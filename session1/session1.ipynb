{
 "cells": [
  {
   "cell_type": "code",
   "execution_count": null,
   "metadata": {},
   "outputs": [],
   "source": [
    "# x = 10\n",
    "# if x < 50:\n",
    "#   print(\"lebih kecil dari 50\")\n",
    "#   if x < 20 or x > 30:\n",
    "#     print(\"lebih kecil dari 20 atau lebih besar dari 30\")\n",
    "# elif x > 50:\n",
    "#   print(\"lebih besar dari 50\")\n",
    "#   if x > 60 and x < 80:\n",
    "#     print(\"Lebih besar dari 60 dan kurang dari 80\")\n",
    "\n",
    "# if x != 50:\n",
    "#     print(\"bukan 50\")\n",
    "\n",
    "udaMandi = True\n",
    "if not udaMandi:\n",
    "  print(\"bau\")\n",
    "else:\n",
    "  print(\"wangi\")"
   ]
  },
  {
   "cell_type": "code",
   "execution_count": null,
   "metadata": {},
   "outputs": [],
   "source": [
    "# for (int i = 0; i < 11; i+1)\n",
    "n = 1000000\n",
    "for i in range(0, n+1, 1):\n",
    "  print(i)"
   ]
  },
  {
   "cell_type": "code",
   "execution_count": null,
   "metadata": {},
   "outputs": [],
   "source": [
    "# def greet():\n",
    "#   print(\"hello\")\n",
    "\n",
    "# def add(a, b):\n",
    "#   return a + b\n",
    "\n",
    "# greet()\n",
    "# print(add(3, 5))\n",
    "\n",
    "word = \"good morning\"\n",
    "word, word2 = word.split(\" \")\n",
    "print(word)\n",
    "print(word2)\n",
    "\n",
    "# word = word.capitalize()\n",
    "# word2 = word2.capitalize()\n",
    "\n",
    "word3 = word + \" \" + word2\n",
    "word3 = word3.title()\n",
    "print(word3)\n",
    "print(word3.count(\"o\"))\n",
    "\n"
   ]
  },
  {
   "cell_type": "code",
   "execution_count": null,
   "metadata": {},
   "outputs": [],
   "source": [
    "# List, Set, Tuple\n",
    "numbers = [1, 2, 3, \"halo\", True]\n",
    "print(numbers[3])\n",
    "print(numbers)\n",
    "for item in numbers:\n",
    "  print(item)\n",
    "\n",
    "# Data slicing\n",
    "numbers[1:4:2]\n",
    "\n"
   ]
  },
  {
   "cell_type": "code",
   "execution_count": null,
   "metadata": {},
   "outputs": [],
   "source": [
    "person_list = []\n",
    "\n",
    "person = {\n",
    "    \"name\": \"bertrand\",\n",
    "    \"age\": 19,\n",
    "    \"gender\": \"Male\"\n",
    "}\n",
    "\n",
    "person_list.append(person)\n",
    "\n",
    "person = {\n",
    "    \"name\": \"rifa\",\n",
    "    \"age\": 20,\n",
    "    \"gender\": \"Sesuai iman\"\n",
    "}\n",
    "\n",
    "person_list.append(person)\n",
    "# print(person_list)\n",
    "\n",
    "test = person_list[0]\n",
    "# print(test[\"name\"])\n",
    "\n",
    "for person in person_list:\n",
    "    print(f\"{person['name']}, {person['age']}\")\n",
    "\n"
   ]
  }
 ],
 "metadata": {
  "kernelspec": {
   "display_name": "Python 3",
   "language": "python",
   "name": "python3"
  },
  "language_info": {
   "codemirror_mode": {
    "name": "ipython",
    "version": 3
   },
   "file_extension": ".py",
   "mimetype": "text/x-python",
   "name": "python",
   "nbconvert_exporter": "python",
   "pygments_lexer": "ipython3",
   "version": "3.10.12"
  }
 },
 "nbformat": 4,
 "nbformat_minor": 2
}
