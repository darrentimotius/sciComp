{
 "cells": [
  {
   "cell_type": "code",
   "execution_count": 1,
   "metadata": {},
   "outputs": [],
   "source": [
    "import numpy as np"
   ]
  },
  {
   "cell_type": "code",
   "execution_count": 2,
   "metadata": {},
   "outputs": [],
   "source": [
    "def f(x):\n",
    "    return 8 * (x**5) - 10 * (x**4) + (x**3) + 2 * (x**2) - (9 * x) + 13\n",
    "\n",
    "def g(x):\n",
    "    return 40 * (x**4) - 40 * (x**3) + 3 *  (x**2) + 4 * x - 9"
   ]
  },
  {
   "cell_type": "code",
   "execution_count": 3,
   "metadata": {},
   "outputs": [],
   "source": [
    "def newton_raphson(x, tolerance=0.09, max_iteration=50):\n",
    "    for i in range(max_iteration):\n",
    "        x = x - (f(x)/g(x))\n",
    "        print(f\"Iteration {i+1} = {x}\")\n",
    "        if np.abs(f(x)) < tolerance :\n",
    "            return x"
   ]
  },
  {
   "cell_type": "code",
   "execution_count": 4,
   "metadata": {},
   "outputs": [
    {
     "name": "stdout",
     "output_type": "stream",
     "text": [
      "Iteration 1 = 8.054225142993525\n",
      "Iteration 2 = 6.498745821861522\n",
      "Iteration 3 = 5.255855929531467\n",
      "Iteration 4 = 4.263521572178562\n",
      "Iteration 5 = 3.472286867561093\n",
      "Iteration 6 = 2.842768755638255\n",
      "Iteration 7 = 2.343515575675127\n",
      "Iteration 8 = 1.9488530244374116\n",
      "Iteration 9 = 1.6359014554740354\n",
      "Iteration 10 = 1.3783329351368019\n",
      "Iteration 11 = 1.1221524832781737\n",
      "Iteration 12 = 0.2777637826536927\n",
      "Iteration 13 = 1.562055733975546\n",
      "Iteration 14 = 1.3128143448855383\n",
      "Iteration 15 = 1.0307382721768548\n",
      "Iteration 16 = 15.486428993213222\n",
      "Iteration 17 = 12.441797546548463\n",
      "Iteration 18 = 10.006779562581167\n",
      "Iteration 19 = 8.059645679821546\n",
      "Iteration 20 = 6.503078199962083\n",
      "Iteration 21 = 5.25931649677479\n",
      "Iteration 22 = 4.266282932699495\n",
      "Iteration 23 = 3.474486522396882\n",
      "Iteration 24 = 2.8445162159813617\n",
      "Iteration 25 = 2.344898801572508\n",
      "Iteration 26 = 1.9499458137495307\n",
      "Iteration 27 = 1.6367756802879339\n",
      "Iteration 28 = 1.3790898369433187\n",
      "Iteration 29 = 1.1230934423057093\n",
      "Iteration 30 = 0.28868419388956446\n",
      "Iteration 31 = 1.5615646270387615\n",
      "Iteration 32 = 1.312366171534319\n",
      "Iteration 33 = 1.0300271562121233\n",
      "Iteration 34 = 13.94064558658185\n",
      "Iteration 35 = 11.20547972715137\n",
      "Iteration 36 = 9.01812014954254\n",
      "Iteration 37 = 7.269227633150374\n",
      "Iteration 38 = 5.871408695965174\n",
      "Iteration 39 = 4.754858906622998\n",
      "Iteration 40 = 3.863885584972575\n",
      "Iteration 41 = 3.15411845469446\n",
      "Iteration 42 = 2.590211439680065\n",
      "Iteration 43 = 2.143758852016274\n",
      "Iteration 44 = 1.7908969441858478\n",
      "Iteration 45 = 1.5082939597704743\n",
      "Iteration 46 = 1.2624342996196907\n",
      "Iteration 47 = 0.9394403984515456\n",
      "Iteration 48 = 2.0700294497518943\n",
      "Iteration 49 = 1.7324349144555444\n",
      "Iteration 50 = 1.460087152915903\n",
      "Root: None\n"
     ]
    }
   ],
   "source": [
    "print(f\"Root: {newton_raphson(10)}\")"
   ]
  },
  {
   "cell_type": "markdown",
   "metadata": {},
   "source": [
    "Bisection"
   ]
  },
  {
   "cell_type": "code",
   "execution_count": 5,
   "metadata": {},
   "outputs": [],
   "source": [
    "iteration = 0\n",
    "def bisection(left, right, max_tolerance=0.09):\n",
    "    global iteration\n",
    "    iteration += 1\n",
    "\n",
    "    if np.sign(f(left)) == np.sign(f(right)):\n",
    "        print(\"No root\")\n",
    "        return False\n",
    "    \n",
    "    x = (left + right) / 2\n",
    "    print(f\"Iteration {iteration} f({x}) = {f(x)}\")\n",
    "\n",
    "    if np.abs(f(x)) < max_tolerance:\n",
    "        print(f\"Root found at {iteration}: {x}\")\n",
    "        return True\n",
    "    if np.sign(f(left)) == np.sign(f(x)):\n",
    "        return bisection(x, right)\n",
    "    if np.sign(f(right)) == np.sign(f(x)):\n",
    "        return bisection(left, x)"
   ]
  },
  {
   "cell_type": "code",
   "execution_count": 6,
   "metadata": {},
   "outputs": [
    {
     "name": "stdout",
     "output_type": "stream",
     "text": [
      "Iteration 1 f(0.0) = 13.0\n",
      "Iteration 2 f(-5.0) = -31267.0\n",
      "Iteration 3 f(-2.5) = -1139.5\n",
      "Iteration 4 f(-1.25) = -23.40625\n",
      "Iteration 5 f(-0.625) = 16.873291015625\n",
      "Iteration 6 f(-0.9375) = 8.853004455566406\n",
      "Iteration 7 f(-1.09375) = -2.905379056930542\n",
      "Iteration 8 f(-1.015625) = 3.87136160582304\n",
      "Iteration 9 f(-1.0546875) = 0.7299417986068875\n",
      "Iteration 10 f(-1.07421875) = -1.0230034934575087\n",
      "Iteration 11 f(-1.064453125) = -0.1307314031948863\n",
      "Iteration 12 f(-1.0595703125) = 0.3035082712643984\n",
      "Iteration 13 f(-1.06201171875) = 0.08737002287372775\n",
      "Root found at 13: -1.06201171875\n"
     ]
    },
    {
     "data": {
      "text/plain": [
       "True"
      ]
     },
     "execution_count": 6,
     "metadata": {},
     "output_type": "execute_result"
    }
   ],
   "source": [
    "bisection(-10, 10)"
   ]
  }
 ],
 "metadata": {
  "kernelspec": {
   "display_name": "sciComp",
   "language": "python",
   "name": "python3"
  },
  "language_info": {
   "codemirror_mode": {
    "name": "ipython",
    "version": 3
   },
   "file_extension": ".py",
   "mimetype": "text/x-python",
   "name": "python",
   "nbconvert_exporter": "python",
   "pygments_lexer": "ipython3",
   "version": "3.10.12"
  }
 },
 "nbformat": 4,
 "nbformat_minor": 2
}
